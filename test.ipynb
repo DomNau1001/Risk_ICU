{
 "cells": [
  {
   "cell_type": "code",
   "execution_count": 1,
   "metadata": {},
   "outputs": [],
   "source": [
    "import pandas as pd\n",
    "import pickle"
   ]
  },
  {
   "cell_type": "code",
   "execution_count": 2,
   "metadata": {},
   "outputs": [],
   "source": [
    "data = pd.read_csv(\"raw_data/training_v2.csv\")\n",
    "pd.set_option(\"display.max_columns\", None)\n",
    "pd.set_option(\"display.max_rows\", 500)"
   ]
  },
  {
   "cell_type": "code",
   "execution_count": 3,
   "metadata": {},
   "outputs": [],
   "source": [
    "from ml_logic.model import model_h1, model_h24, save_model, predict\n",
    "from ml_logic.preprocessing import preprocessing_1_hour, preprocessing_24_hour"
   ]
  },
  {
   "cell_type": "code",
   "execution_count": 4,
   "metadata": {},
   "outputs": [
    {
     "name": "stderr",
     "output_type": "stream",
     "text": [
      "/Users/dominiknaumann/code/DomNau1001/Risk_ICU/ml_logic/preprocessing.py:204: SettingWithCopyWarning: \n",
      "A value is trying to be set on a copy of a slice from a DataFrame.\n",
      "Try using .loc[row_indexer,col_indexer] = value instead\n",
      "\n",
      "See the caveats in the documentation: https://pandas.pydata.org/pandas-docs/stable/user_guide/indexing.html#returning-a-view-versus-a-copy\n",
      "  X_post_cats[ohe.get_feature_names_out()] = ohe.transform(X_post_cats[[\"gender\"]])\n",
      "/Users/dominiknaumann/code/DomNau1001/Risk_ICU/ml_logic/preprocessing.py:205: SettingWithCopyWarning: \n",
      "A value is trying to be set on a copy of a slice from a DataFrame\n",
      "\n",
      "See the caveats in the documentation: https://pandas.pydata.org/pandas-docs/stable/user_guide/indexing.html#returning-a-view-versus-a-copy\n",
      "  X_post_cats.drop(columns = \"gender\", inplace = True)\n",
      "/Users/dominiknaumann/code/DomNau1001/Risk_ICU/ml_logic/preprocessing.py:208: SettingWithCopyWarning: \n",
      "A value is trying to be set on a copy of a slice from a DataFrame.\n",
      "Try using .loc[row_indexer,col_indexer] = value instead\n",
      "\n",
      "See the caveats in the documentation: https://pandas.pydata.org/pandas-docs/stable/user_guide/indexing.html#returning-a-view-versus-a-copy\n",
      "  X_post_cats[ohe.get_feature_names_out()] = ohe.transform(X_post_cats[[\"icu_admit_source\"]])\n",
      "/Users/dominiknaumann/code/DomNau1001/Risk_ICU/ml_logic/preprocessing.py:208: SettingWithCopyWarning: \n",
      "A value is trying to be set on a copy of a slice from a DataFrame.\n",
      "Try using .loc[row_indexer,col_indexer] = value instead\n",
      "\n",
      "See the caveats in the documentation: https://pandas.pydata.org/pandas-docs/stable/user_guide/indexing.html#returning-a-view-versus-a-copy\n",
      "  X_post_cats[ohe.get_feature_names_out()] = ohe.transform(X_post_cats[[\"icu_admit_source\"]])\n",
      "/Users/dominiknaumann/code/DomNau1001/Risk_ICU/ml_logic/preprocessing.py:208: SettingWithCopyWarning: \n",
      "A value is trying to be set on a copy of a slice from a DataFrame.\n",
      "Try using .loc[row_indexer,col_indexer] = value instead\n",
      "\n",
      "See the caveats in the documentation: https://pandas.pydata.org/pandas-docs/stable/user_guide/indexing.html#returning-a-view-versus-a-copy\n",
      "  X_post_cats[ohe.get_feature_names_out()] = ohe.transform(X_post_cats[[\"icu_admit_source\"]])\n",
      "/Users/dominiknaumann/code/DomNau1001/Risk_ICU/ml_logic/preprocessing.py:208: SettingWithCopyWarning: \n",
      "A value is trying to be set on a copy of a slice from a DataFrame.\n",
      "Try using .loc[row_indexer,col_indexer] = value instead\n",
      "\n",
      "See the caveats in the documentation: https://pandas.pydata.org/pandas-docs/stable/user_guide/indexing.html#returning-a-view-versus-a-copy\n",
      "  X_post_cats[ohe.get_feature_names_out()] = ohe.transform(X_post_cats[[\"icu_admit_source\"]])\n",
      "/Users/dominiknaumann/code/DomNau1001/Risk_ICU/ml_logic/preprocessing.py:208: SettingWithCopyWarning: \n",
      "A value is trying to be set on a copy of a slice from a DataFrame.\n",
      "Try using .loc[row_indexer,col_indexer] = value instead\n",
      "\n",
      "See the caveats in the documentation: https://pandas.pydata.org/pandas-docs/stable/user_guide/indexing.html#returning-a-view-versus-a-copy\n",
      "  X_post_cats[ohe.get_feature_names_out()] = ohe.transform(X_post_cats[[\"icu_admit_source\"]])\n",
      "/Users/dominiknaumann/code/DomNau1001/Risk_ICU/ml_logic/preprocessing.py:209: SettingWithCopyWarning: \n",
      "A value is trying to be set on a copy of a slice from a DataFrame\n",
      "\n",
      "See the caveats in the documentation: https://pandas.pydata.org/pandas-docs/stable/user_guide/indexing.html#returning-a-view-versus-a-copy\n",
      "  X_post_cats.drop(columns = \"icu_admit_source\", inplace = True)\n",
      "/Users/dominiknaumann/code/DomNau1001/Risk_ICU/ml_logic/preprocessing.py:212: SettingWithCopyWarning: \n",
      "A value is trying to be set on a copy of a slice from a DataFrame.\n",
      "Try using .loc[row_indexer,col_indexer] = value instead\n",
      "\n",
      "See the caveats in the documentation: https://pandas.pydata.org/pandas-docs/stable/user_guide/indexing.html#returning-a-view-versus-a-copy\n",
      "  X_post_cats[ohe.get_feature_names_out()] = ohe.transform(X_post_cats[[\"immunosuppression\"]])\n",
      "/Users/dominiknaumann/code/DomNau1001/Risk_ICU/ml_logic/preprocessing.py:213: SettingWithCopyWarning: \n",
      "A value is trying to be set on a copy of a slice from a DataFrame\n",
      "\n",
      "See the caveats in the documentation: https://pandas.pydata.org/pandas-docs/stable/user_guide/indexing.html#returning-a-view-versus-a-copy\n",
      "  X_post_cats.drop(columns = \"immunosuppression\", inplace = True)\n",
      "/Users/dominiknaumann/code/DomNau1001/Risk_ICU/ml_logic/preprocessing.py:216: SettingWithCopyWarning: \n",
      "A value is trying to be set on a copy of a slice from a DataFrame.\n",
      "Try using .loc[row_indexer,col_indexer] = value instead\n",
      "\n",
      "See the caveats in the documentation: https://pandas.pydata.org/pandas-docs/stable/user_guide/indexing.html#returning-a-view-versus-a-copy\n",
      "  X_post_cats[ohe.get_feature_names_out()] = ohe.transform(X_post_cats[[\"cirrhosis\"]])\n",
      "/Users/dominiknaumann/code/DomNau1001/Risk_ICU/ml_logic/preprocessing.py:217: SettingWithCopyWarning: \n",
      "A value is trying to be set on a copy of a slice from a DataFrame\n",
      "\n",
      "See the caveats in the documentation: https://pandas.pydata.org/pandas-docs/stable/user_guide/indexing.html#returning-a-view-versus-a-copy\n",
      "  X_post_cats.drop(columns = \"cirrhosis\", inplace = True)\n"
     ]
    }
   ],
   "source": [
    "X,y = preprocessing_1_hour(data)"
   ]
  },
  {
   "cell_type": "code",
   "execution_count": 5,
   "metadata": {},
   "outputs": [],
   "source": [
    "model, auc, recall = model_h1(X,y)"
   ]
  },
  {
   "cell_type": "code",
   "execution_count": 6,
   "metadata": {},
   "outputs": [
    {
     "data": {
      "text/plain": [
       "0.7960171174585098"
      ]
     },
     "execution_count": 6,
     "metadata": {},
     "output_type": "execute_result"
    }
   ],
   "source": [
    "auc"
   ]
  },
  {
   "cell_type": "code",
   "execution_count": 7,
   "metadata": {},
   "outputs": [
    {
     "data": {
      "text/plain": [
       "0.6736842105263158"
      ]
     },
     "execution_count": 7,
     "metadata": {},
     "output_type": "execute_result"
    }
   ],
   "source": [
    "recall"
   ]
  },
  {
   "cell_type": "code",
   "execution_count": 8,
   "metadata": {},
   "outputs": [],
   "source": [
    "save_model(model, \"1h_model\")"
   ]
  },
  {
   "cell_type": "code",
   "execution_count": 9,
   "metadata": {},
   "outputs": [
    {
     "data": {
      "text/html": [
       "<div>\n",
       "<style scoped>\n",
       "    .dataframe tbody tr th:only-of-type {\n",
       "        vertical-align: middle;\n",
       "    }\n",
       "\n",
       "    .dataframe tbody tr th {\n",
       "        vertical-align: top;\n",
       "    }\n",
       "\n",
       "    .dataframe thead th {\n",
       "        text-align: right;\n",
       "    }\n",
       "</style>\n",
       "<table border=\"1\" class=\"dataframe\">\n",
       "  <thead>\n",
       "    <tr style=\"text-align: right;\">\n",
       "      <th></th>\n",
       "      <th>age</th>\n",
       "      <th>bmi</th>\n",
       "      <th>cirrhosis</th>\n",
       "      <th>elective_surgery</th>\n",
       "      <th>gender_M</th>\n",
       "      <th>h1_glucose_min</th>\n",
       "      <th>h1_heartrate_max</th>\n",
       "      <th>h1_lactate_max</th>\n",
       "      <th>h1_mbp_min</th>\n",
       "      <th>h1_resprate_min</th>\n",
       "      <th>h1_spo2_max</th>\n",
       "      <th>h1_sysbp_min</th>\n",
       "      <th>h1_temp_min</th>\n",
       "      <th>icu_admit_source_Accident_Emergency</th>\n",
       "      <th>immunosuppression</th>\n",
       "      <th>pre_icu_los_days</th>\n",
       "    </tr>\n",
       "  </thead>\n",
       "  <tbody>\n",
       "    <tr>\n",
       "      <th>0</th>\n",
       "      <td>0.712329</td>\n",
       "      <td>0.148859</td>\n",
       "      <td>0.0</td>\n",
       "      <td>0.0</td>\n",
       "      <td>1.0</td>\n",
       "      <td>0.146497</td>\n",
       "      <td>0.618644</td>\n",
       "      <td>0.093220</td>\n",
       "      <td>0.500000</td>\n",
       "      <td>0.095238</td>\n",
       "      <td>1.00</td>\n",
       "      <td>0.439716</td>\n",
       "      <td>0.71875</td>\n",
       "      <td>0.0</td>\n",
       "      <td>0.0</td>\n",
       "      <td>0.138498</td>\n",
       "    </tr>\n",
       "    <tr>\n",
       "      <th>1</th>\n",
       "      <td>0.835616</td>\n",
       "      <td>0.237400</td>\n",
       "      <td>0.0</td>\n",
       "      <td>0.0</td>\n",
       "      <td>0.0</td>\n",
       "      <td>0.160828</td>\n",
       "      <td>0.576271</td>\n",
       "      <td>0.175141</td>\n",
       "      <td>0.235849</td>\n",
       "      <td>0.148148</td>\n",
       "      <td>0.95</td>\n",
       "      <td>0.127660</td>\n",
       "      <td>0.53125</td>\n",
       "      <td>0.0</td>\n",
       "      <td>0.0</td>\n",
       "      <td>0.140596</td>\n",
       "    </tr>\n",
       "    <tr>\n",
       "      <th>2</th>\n",
       "      <td>0.123288</td>\n",
       "      <td>0.322920</td>\n",
       "      <td>0.0</td>\n",
       "      <td>0.0</td>\n",
       "      <td>0.0</td>\n",
       "      <td>0.146497</td>\n",
       "      <td>0.423729</td>\n",
       "      <td>0.093220</td>\n",
       "      <td>0.481132</td>\n",
       "      <td>0.084656</td>\n",
       "      <td>0.98</td>\n",
       "      <td>0.503546</td>\n",
       "      <td>0.59375</td>\n",
       "      <td>1.0</td>\n",
       "      <td>0.0</td>\n",
       "      <td>0.135558</td>\n",
       "    </tr>\n",
       "  </tbody>\n",
       "</table>\n",
       "</div>"
      ],
      "text/plain": [
       "        age       bmi  cirrhosis  elective_surgery  gender_M  h1_glucose_min  \\\n",
       "0  0.712329  0.148859        0.0               0.0       1.0        0.146497   \n",
       "1  0.835616  0.237400        0.0               0.0       0.0        0.160828   \n",
       "2  0.123288  0.322920        0.0               0.0       0.0        0.146497   \n",
       "\n",
       "   h1_heartrate_max  h1_lactate_max  h1_mbp_min  h1_resprate_min  h1_spo2_max  \\\n",
       "0          0.618644        0.093220    0.500000         0.095238         1.00   \n",
       "1          0.576271        0.175141    0.235849         0.148148         0.95   \n",
       "2          0.423729        0.093220    0.481132         0.084656         0.98   \n",
       "\n",
       "   h1_sysbp_min  h1_temp_min  icu_admit_source_Accident_Emergency  \\\n",
       "0      0.439716      0.71875                                  0.0   \n",
       "1      0.127660      0.53125                                  0.0   \n",
       "2      0.503546      0.59375                                  1.0   \n",
       "\n",
       "   immunosuppression  pre_icu_los_days  \n",
       "0                0.0          0.138498  \n",
       "1                0.0          0.140596  \n",
       "2                0.0          0.135558  "
      ]
     },
     "execution_count": 9,
     "metadata": {},
     "output_type": "execute_result"
    }
   ],
   "source": [
    "X.head(3)"
   ]
  },
  {
   "cell_type": "code",
   "execution_count": 10,
   "metadata": {},
   "outputs": [
    {
     "data": {
      "text/plain": [
       "Index(['age', 'bmi', 'cirrhosis', 'elective_surgery', 'gender_M',\n",
       "       'h1_glucose_min', 'h1_heartrate_max', 'h1_lactate_max', 'h1_mbp_min',\n",
       "       'h1_resprate_min', 'h1_spo2_max', 'h1_sysbp_min', 'h1_temp_min',\n",
       "       'icu_admit_source_Accident_Emergency', 'immunosuppression',\n",
       "       'pre_icu_los_days'],\n",
       "      dtype='object')"
      ]
     },
     "execution_count": 10,
     "metadata": {},
     "output_type": "execute_result"
    }
   ],
   "source": [
    "X.columns"
   ]
  },
  {
   "cell_type": "code",
   "execution_count": 11,
   "metadata": {},
   "outputs": [],
   "source": [
    "test = pd.DataFrame(dict(\n",
    "        age = [20],\n",
    "        bmi = [20],\n",
    "        cirrhosis = [1],\n",
    "        elective_surgery = [1],\n",
    "        gender_M = [1],\n",
    "        h1_glucose_min = [20],\n",
    "        h1_heartrate_max = [20],\n",
    "        h1_lactate_max = [20],\n",
    "        h1_mbp_min = [20],\n",
    "        h1_resprate_min = [20],\n",
    "        h1_spo2_max = [20],\n",
    "        h1_sysbp_min = [20],\n",
    "        h1_temp_min = [20],\n",
    "        icu_admit_source_Accident_Emergency = [0],\n",
    "        immunosuppression = [0],\n",
    "        pre_icu_los_days = [0]))"
   ]
  },
  {
   "cell_type": "code",
   "execution_count": 12,
   "metadata": {},
   "outputs": [
    {
     "data": {
      "text/plain": [
       "array([ True,  True,  True,  True,  True,  True,  True,  True,  True,\n",
       "        True,  True,  True,  True,  True,  True,  True])"
      ]
     },
     "execution_count": 12,
     "metadata": {},
     "output_type": "execute_result"
    }
   ],
   "source": [
    "test.columns == X.columns"
   ]
  },
  {
   "cell_type": "code",
   "execution_count": 13,
   "metadata": {},
   "outputs": [],
   "source": [
    "mm_scaler = pickle.load(open(\"mm_scaler_1.pkl\", \"rb\"))\n",
    "\n",
    "test_pre = mm_scaler.transform(test)"
   ]
  },
  {
   "cell_type": "code",
   "execution_count": 14,
   "metadata": {},
   "outputs": [
    {
     "data": {
      "text/plain": [
       "array([[0.4996701, 0.5003299]], dtype=float32)"
      ]
     },
     "execution_count": 14,
     "metadata": {},
     "output_type": "execute_result"
    }
   ],
   "source": [
    "predict(model, test)"
   ]
  },
  {
   "cell_type": "code",
   "execution_count": 15,
   "metadata": {},
   "outputs": [],
   "source": [
    "X_large = pd.DataFrame(dict(\n",
    "        age = [20],\n",
    "        bmi = [20],\n",
    "        d1_bun_max = [20],\n",
    "        d1_spo2_min = [20],\n",
    "        d1_temp_max = [20],\n",
    "        d1_wbc_max = [20],\n",
    "        d1_glucose_min = [20],\n",
    "        d1_heartrate_max = [20],\n",
    "        dr_heartrate_min = [20],\n",
    "        d1_resprate_max = [20],\n",
    "        d1_resprate_min = [20],\n",
    "        d1_spo2_max = [20],\n",
    "        d1_sysbp_min = [20],\n",
    "        d1_temp_min = [20],\n",
    "        icu_admit_source_Accident_Emergency = [20],\n",
    "        d1_wbc_min = [20],\n",
    "        d1_sodium_max = [20],\n",
    "        d1_glucose_max = [20],\n",
    "        d1_platelets_min = [20],\n",
    "        d1_sysbp_max = [20],\n",
    "        d1_hco3_min = [20],\n",
    "        d1_crea_max = [20],\n",
    "        d1_hco3_max = [2],\n",
    "        d1_mbp_min = [2],\n",
    "        d1_sodium_min = [2],\n",
    "        diabetes_mellitus = [2]))"
   ]
  },
  {
   "cell_type": "code",
   "execution_count": 16,
   "metadata": {},
   "outputs": [
    {
     "data": {
      "text/plain": [
       "Index(['age', 'bmi', 'd1_bun_max', 'd1_spo2_min', 'd1_temp_max', 'd1_wbc_max',\n",
       "       'd1_glucose_min', 'd1_heartrate_max', 'dr_heartrate_min',\n",
       "       'd1_resprate_max', 'd1_resprate_min', 'd1_spo2_max', 'd1_sysbp_min',\n",
       "       'd1_temp_min', 'icu_admit_source_Accident_Emergency', 'd1_wbc_min',\n",
       "       'd1_sodium_max', 'd1_glucose_max', 'd1_platelets_min', 'd1_sysbp_max',\n",
       "       'd1_hco3_min', 'd1_crea_max', 'd1_hco3_max', 'd1_mbp_min',\n",
       "       'd1_sodium_min', 'diabetes_mellitus'],\n",
       "      dtype='object')"
      ]
     },
     "execution_count": 16,
     "metadata": {},
     "output_type": "execute_result"
    }
   ],
   "source": [
    "X_large.columns"
   ]
  },
  {
   "cell_type": "code",
   "execution_count": 17,
   "metadata": {},
   "outputs": [
    {
     "data": {
      "text/plain": [
       "0.02072770490552048"
      ]
     },
     "execution_count": 17,
     "metadata": {},
     "output_type": "execute_result"
    }
   ],
   "source": [
    "data[\"gcs_eyes_apache\"].isnull().sum()/len(data[\"gcs_eyes_apache\"])"
   ]
  },
  {
   "cell_type": "code",
   "execution_count": 18,
   "metadata": {},
   "outputs": [
    {
     "name": "stderr",
     "output_type": "stream",
     "text": [
      "/Users/dominiknaumann/code/DomNau1001/Risk_ICU/ml_logic/preprocessing.py:71: SettingWithCopyWarning: \n",
      "A value is trying to be set on a copy of a slice from a DataFrame.\n",
      "Try using .loc[row_indexer,col_indexer] = value instead\n",
      "\n",
      "See the caveats in the documentation: https://pandas.pydata.org/pandas-docs/stable/user_guide/indexing.html#returning-a-view-versus-a-copy\n",
      "  X_post_cats[ohe.get_feature_names_out()] = ohe.transform(X_post_cats[[\"gender\"]])\n",
      "/Users/dominiknaumann/code/DomNau1001/Risk_ICU/ml_logic/preprocessing.py:72: SettingWithCopyWarning: \n",
      "A value is trying to be set on a copy of a slice from a DataFrame\n",
      "\n",
      "See the caveats in the documentation: https://pandas.pydata.org/pandas-docs/stable/user_guide/indexing.html#returning-a-view-versus-a-copy\n",
      "  X_post_cats.drop(columns = \"gender\", inplace = True)\n",
      "/Users/dominiknaumann/code/DomNau1001/Risk_ICU/ml_logic/preprocessing.py:75: SettingWithCopyWarning: \n",
      "A value is trying to be set on a copy of a slice from a DataFrame.\n",
      "Try using .loc[row_indexer,col_indexer] = value instead\n",
      "\n",
      "See the caveats in the documentation: https://pandas.pydata.org/pandas-docs/stable/user_guide/indexing.html#returning-a-view-versus-a-copy\n",
      "  X_post_cats[ohe.get_feature_names_out()] = ohe.transform(X_post_cats[[\"icu_admit_source\"]])\n",
      "/Users/dominiknaumann/code/DomNau1001/Risk_ICU/ml_logic/preprocessing.py:75: SettingWithCopyWarning: \n",
      "A value is trying to be set on a copy of a slice from a DataFrame.\n",
      "Try using .loc[row_indexer,col_indexer] = value instead\n",
      "\n",
      "See the caveats in the documentation: https://pandas.pydata.org/pandas-docs/stable/user_guide/indexing.html#returning-a-view-versus-a-copy\n",
      "  X_post_cats[ohe.get_feature_names_out()] = ohe.transform(X_post_cats[[\"icu_admit_source\"]])\n",
      "/Users/dominiknaumann/code/DomNau1001/Risk_ICU/ml_logic/preprocessing.py:75: SettingWithCopyWarning: \n",
      "A value is trying to be set on a copy of a slice from a DataFrame.\n",
      "Try using .loc[row_indexer,col_indexer] = value instead\n",
      "\n",
      "See the caveats in the documentation: https://pandas.pydata.org/pandas-docs/stable/user_guide/indexing.html#returning-a-view-versus-a-copy\n",
      "  X_post_cats[ohe.get_feature_names_out()] = ohe.transform(X_post_cats[[\"icu_admit_source\"]])\n",
      "/Users/dominiknaumann/code/DomNau1001/Risk_ICU/ml_logic/preprocessing.py:75: SettingWithCopyWarning: \n",
      "A value is trying to be set on a copy of a slice from a DataFrame.\n",
      "Try using .loc[row_indexer,col_indexer] = value instead\n",
      "\n",
      "See the caveats in the documentation: https://pandas.pydata.org/pandas-docs/stable/user_guide/indexing.html#returning-a-view-versus-a-copy\n",
      "  X_post_cats[ohe.get_feature_names_out()] = ohe.transform(X_post_cats[[\"icu_admit_source\"]])\n",
      "/Users/dominiknaumann/code/DomNau1001/Risk_ICU/ml_logic/preprocessing.py:75: SettingWithCopyWarning: \n",
      "A value is trying to be set on a copy of a slice from a DataFrame.\n",
      "Try using .loc[row_indexer,col_indexer] = value instead\n",
      "\n",
      "See the caveats in the documentation: https://pandas.pydata.org/pandas-docs/stable/user_guide/indexing.html#returning-a-view-versus-a-copy\n",
      "  X_post_cats[ohe.get_feature_names_out()] = ohe.transform(X_post_cats[[\"icu_admit_source\"]])\n",
      "/Users/dominiknaumann/code/DomNau1001/Risk_ICU/ml_logic/preprocessing.py:76: SettingWithCopyWarning: \n",
      "A value is trying to be set on a copy of a slice from a DataFrame\n",
      "\n",
      "See the caveats in the documentation: https://pandas.pydata.org/pandas-docs/stable/user_guide/indexing.html#returning-a-view-versus-a-copy\n",
      "  X_post_cats.drop(columns = \"icu_admit_source\", inplace = True)\n",
      "/Users/dominiknaumann/code/DomNau1001/Risk_ICU/ml_logic/preprocessing.py:79: SettingWithCopyWarning: \n",
      "A value is trying to be set on a copy of a slice from a DataFrame.\n",
      "Try using .loc[row_indexer,col_indexer] = value instead\n",
      "\n",
      "See the caveats in the documentation: https://pandas.pydata.org/pandas-docs/stable/user_guide/indexing.html#returning-a-view-versus-a-copy\n",
      "  X_post_cats[ohe.get_feature_names_out()] = ohe.transform(X_post_cats[[\"diabetes_mellitus\"]])\n",
      "/Users/dominiknaumann/code/DomNau1001/Risk_ICU/ml_logic/preprocessing.py:80: SettingWithCopyWarning: \n",
      "A value is trying to be set on a copy of a slice from a DataFrame\n",
      "\n",
      "See the caveats in the documentation: https://pandas.pydata.org/pandas-docs/stable/user_guide/indexing.html#returning-a-view-versus-a-copy\n",
      "  X_post_cats.drop(columns = \"diabetes_mellitus\", inplace = True)\n",
      "/Users/dominiknaumann/code/DomNau1001/Risk_ICU/ml_logic/preprocessing.py:83: SettingWithCopyWarning: \n",
      "A value is trying to be set on a copy of a slice from a DataFrame.\n",
      "Try using .loc[row_indexer,col_indexer] = value instead\n",
      "\n",
      "See the caveats in the documentation: https://pandas.pydata.org/pandas-docs/stable/user_guide/indexing.html#returning-a-view-versus-a-copy\n",
      "  X_post_cats[ohe.get_feature_names_out()] = ohe.transform(X_post_cats[[\"cirrhosis\"]])\n",
      "/Users/dominiknaumann/code/DomNau1001/Risk_ICU/ml_logic/preprocessing.py:84: SettingWithCopyWarning: \n",
      "A value is trying to be set on a copy of a slice from a DataFrame\n",
      "\n",
      "See the caveats in the documentation: https://pandas.pydata.org/pandas-docs/stable/user_guide/indexing.html#returning-a-view-versus-a-copy\n",
      "  X_post_cats.drop(columns = \"cirrhosis\", inplace = True)\n",
      "/Users/dominiknaumann/code/DomNau1001/Risk_ICU/ml_logic/preprocessing.py:87: SettingWithCopyWarning: \n",
      "A value is trying to be set on a copy of a slice from a DataFrame.\n",
      "Try using .loc[row_indexer,col_indexer] = value instead\n",
      "\n",
      "See the caveats in the documentation: https://pandas.pydata.org/pandas-docs/stable/user_guide/indexing.html#returning-a-view-versus-a-copy\n",
      "  X_post_cats[ohe.get_feature_names_out()] = ohe.transform(X_post_cats[[\"hepatic_failure\"]])\n",
      "/Users/dominiknaumann/code/DomNau1001/Risk_ICU/ml_logic/preprocessing.py:88: SettingWithCopyWarning: \n",
      "A value is trying to be set on a copy of a slice from a DataFrame\n",
      "\n",
      "See the caveats in the documentation: https://pandas.pydata.org/pandas-docs/stable/user_guide/indexing.html#returning-a-view-versus-a-copy\n",
      "  X_post_cats.drop(columns = \"hepatic_failure\", inplace = True)\n",
      "/Users/dominiknaumann/code/DomNau1001/Risk_ICU/ml_logic/preprocessing.py:91: SettingWithCopyWarning: \n",
      "A value is trying to be set on a copy of a slice from a DataFrame.\n",
      "Try using .loc[row_indexer,col_indexer] = value instead\n",
      "\n",
      "See the caveats in the documentation: https://pandas.pydata.org/pandas-docs/stable/user_guide/indexing.html#returning-a-view-versus-a-copy\n",
      "  X_post_cats[ohe.get_feature_names_out()] = ohe.transform(X_post_cats[[\"immunosuppression\"]])\n",
      "/Users/dominiknaumann/code/DomNau1001/Risk_ICU/ml_logic/preprocessing.py:92: SettingWithCopyWarning: \n",
      "A value is trying to be set on a copy of a slice from a DataFrame\n",
      "\n",
      "See the caveats in the documentation: https://pandas.pydata.org/pandas-docs/stable/user_guide/indexing.html#returning-a-view-versus-a-copy\n",
      "  X_post_cats.drop(columns = \"immunosuppression\", inplace = True)\n",
      "/Users/dominiknaumann/code/DomNau1001/Risk_ICU/ml_logic/preprocessing.py:95: SettingWithCopyWarning: \n",
      "A value is trying to be set on a copy of a slice from a DataFrame.\n",
      "Try using .loc[row_indexer,col_indexer] = value instead\n",
      "\n",
      "See the caveats in the documentation: https://pandas.pydata.org/pandas-docs/stable/user_guide/indexing.html#returning-a-view-versus-a-copy\n",
      "  X_post_cats[ohe.get_feature_names_out()] = ohe.transform(X_post_cats[[\"solid_tumor_with_metastasis\"]])\n",
      "/Users/dominiknaumann/code/DomNau1001/Risk_ICU/ml_logic/preprocessing.py:96: SettingWithCopyWarning: \n",
      "A value is trying to be set on a copy of a slice from a DataFrame\n",
      "\n",
      "See the caveats in the documentation: https://pandas.pydata.org/pandas-docs/stable/user_guide/indexing.html#returning-a-view-versus-a-copy\n",
      "  X_post_cats.drop(columns = \"solid_tumor_with_metastasis\", inplace = True)\n",
      "/Users/dominiknaumann/code/DomNau1001/Risk_ICU/ml_logic/preprocessing.py:99: SettingWithCopyWarning: \n",
      "A value is trying to be set on a copy of a slice from a DataFrame.\n",
      "Try using .loc[row_indexer,col_indexer] = value instead\n",
      "\n",
      "See the caveats in the documentation: https://pandas.pydata.org/pandas-docs/stable/user_guide/indexing.html#returning-a-view-versus-a-copy\n",
      "  X_post_cats[ohe.get_feature_names_out()] = ohe.transform(X_post_cats[[\"ventilated\"]])\n",
      "/Users/dominiknaumann/code/DomNau1001/Risk_ICU/ml_logic/preprocessing.py:100: SettingWithCopyWarning: \n",
      "A value is trying to be set on a copy of a slice from a DataFrame\n",
      "\n",
      "See the caveats in the documentation: https://pandas.pydata.org/pandas-docs/stable/user_guide/indexing.html#returning-a-view-versus-a-copy\n",
      "  X_post_cats.drop(columns = \"ventilated\", inplace = True)\n"
     ]
    }
   ],
   "source": [
    "X,y = preprocessing_24_hour(data)"
   ]
  },
  {
   "cell_type": "code",
   "execution_count": 19,
   "metadata": {},
   "outputs": [
    {
     "data": {
      "text/html": [
       "<div>\n",
       "<style scoped>\n",
       "    .dataframe tbody tr th:only-of-type {\n",
       "        vertical-align: middle;\n",
       "    }\n",
       "\n",
       "    .dataframe tbody tr th {\n",
       "        vertical-align: top;\n",
       "    }\n",
       "\n",
       "    .dataframe thead th {\n",
       "        text-align: right;\n",
       "    }\n",
       "</style>\n",
       "<table border=\"1\" class=\"dataframe\">\n",
       "  <thead>\n",
       "    <tr style=\"text-align: right;\">\n",
       "      <th></th>\n",
       "      <th>age</th>\n",
       "      <th>bmi</th>\n",
       "      <th>d1_bun_max</th>\n",
       "      <th>d1_creatinine_max</th>\n",
       "      <th>d1_glucose_min</th>\n",
       "      <th>d1_hco3_max</th>\n",
       "      <th>d1_heartrate_max</th>\n",
       "      <th>d1_heartrate_min</th>\n",
       "      <th>d1_hemaglobin_min</th>\n",
       "      <th>d1_mbp_min</th>\n",
       "      <th>d1_platelets_min</th>\n",
       "      <th>d1_resprate_max</th>\n",
       "      <th>d1_resprate_min</th>\n",
       "      <th>d1_sodium_min</th>\n",
       "      <th>d1_spo2_min</th>\n",
       "      <th>d1_sysbp_max</th>\n",
       "      <th>d1_sysbp_min</th>\n",
       "      <th>d1_temp_max</th>\n",
       "      <th>d1_temp_min</th>\n",
       "      <th>d1_wbc_max</th>\n",
       "      <th>d1_wbc_min</th>\n",
       "      <th>gcs_eyes</th>\n",
       "      <th>gcs_motor</th>\n",
       "      <th>gcs_verbal</th>\n",
       "      <th>icu_admit_source_Accident_Emergency</th>\n",
       "      <th>ventilated</th>\n",
       "    </tr>\n",
       "  </thead>\n",
       "  <tbody>\n",
       "    <tr>\n",
       "      <th>0</th>\n",
       "      <td>0.712329</td>\n",
       "      <td>0.148859</td>\n",
       "      <td>0.221311</td>\n",
       "      <td>0.201486</td>\n",
       "      <td>0.298039</td>\n",
       "      <td>0.250000</td>\n",
       "      <td>0.512605</td>\n",
       "      <td>0.411429</td>\n",
       "      <td>0.315789</td>\n",
       "      <td>0.266667</td>\n",
       "      <td>0.397940</td>\n",
       "      <td>0.363636</td>\n",
       "      <td>0.144928</td>\n",
       "      <td>0.472222</td>\n",
       "      <td>0.74</td>\n",
       "      <td>0.288732</td>\n",
       "      <td>0.268908</td>\n",
       "      <td>1.000000</td>\n",
       "      <td>0.898494</td>\n",
       "      <td>0.287433</td>\n",
       "      <td>0.330017</td>\n",
       "      <td>0.666667</td>\n",
       "      <td>1.0</td>\n",
       "      <td>0.75</td>\n",
       "      <td>0.0</td>\n",
       "      <td>0.0</td>\n",
       "    </tr>\n",
       "    <tr>\n",
       "      <th>1</th>\n",
       "      <td>0.835616</td>\n",
       "      <td>0.237400</td>\n",
       "      <td>0.057377</td>\n",
       "      <td>0.034355</td>\n",
       "      <td>0.372549</td>\n",
       "      <td>0.535714</td>\n",
       "      <td>0.504202</td>\n",
       "      <td>0.411429</td>\n",
       "      <td>0.508772</td>\n",
       "      <td>0.177778</td>\n",
       "      <td>0.869271</td>\n",
       "      <td>0.327273</td>\n",
       "      <td>0.173913</td>\n",
       "      <td>0.777778</td>\n",
       "      <td>0.70</td>\n",
       "      <td>0.485915</td>\n",
       "      <td>0.218487</td>\n",
       "      <td>0.250000</td>\n",
       "      <td>0.543224</td>\n",
       "      <td>0.492424</td>\n",
       "      <td>0.295015</td>\n",
       "      <td>0.000000</td>\n",
       "      <td>0.4</td>\n",
       "      <td>0.00</td>\n",
       "      <td>0.0</td>\n",
       "      <td>1.0</td>\n",
       "    </tr>\n",
       "    <tr>\n",
       "      <th>2</th>\n",
       "      <td>0.123288</td>\n",
       "      <td>0.322920</td>\n",
       "      <td>0.131148</td>\n",
       "      <td>0.062210</td>\n",
       "      <td>0.290196</td>\n",
       "      <td>0.428571</td>\n",
       "      <td>0.319328</td>\n",
       "      <td>0.388571</td>\n",
       "      <td>0.508772</td>\n",
       "      <td>0.511111</td>\n",
       "      <td>0.320004</td>\n",
       "      <td>0.127273</td>\n",
       "      <td>0.115942</td>\n",
       "      <td>0.583333</td>\n",
       "      <td>0.91</td>\n",
       "      <td>0.408451</td>\n",
       "      <td>0.537815</td>\n",
       "      <td>0.395833</td>\n",
       "      <td>0.813906</td>\n",
       "      <td>0.207219</td>\n",
       "      <td>0.222511</td>\n",
       "      <td>0.666667</td>\n",
       "      <td>1.0</td>\n",
       "      <td>1.00</td>\n",
       "      <td>1.0</td>\n",
       "      <td>0.0</td>\n",
       "    </tr>\n",
       "  </tbody>\n",
       "</table>\n",
       "</div>"
      ],
      "text/plain": [
       "        age       bmi  d1_bun_max  d1_creatinine_max  d1_glucose_min  \\\n",
       "0  0.712329  0.148859    0.221311           0.201486        0.298039   \n",
       "1  0.835616  0.237400    0.057377           0.034355        0.372549   \n",
       "2  0.123288  0.322920    0.131148           0.062210        0.290196   \n",
       "\n",
       "   d1_hco3_max  d1_heartrate_max  d1_heartrate_min  d1_hemaglobin_min  \\\n",
       "0     0.250000          0.512605          0.411429           0.315789   \n",
       "1     0.535714          0.504202          0.411429           0.508772   \n",
       "2     0.428571          0.319328          0.388571           0.508772   \n",
       "\n",
       "   d1_mbp_min  d1_platelets_min  d1_resprate_max  d1_resprate_min  \\\n",
       "0    0.266667          0.397940         0.363636         0.144928   \n",
       "1    0.177778          0.869271         0.327273         0.173913   \n",
       "2    0.511111          0.320004         0.127273         0.115942   \n",
       "\n",
       "   d1_sodium_min  d1_spo2_min  d1_sysbp_max  d1_sysbp_min  d1_temp_max  \\\n",
       "0       0.472222         0.74      0.288732      0.268908     1.000000   \n",
       "1       0.777778         0.70      0.485915      0.218487     0.250000   \n",
       "2       0.583333         0.91      0.408451      0.537815     0.395833   \n",
       "\n",
       "   d1_temp_min  d1_wbc_max  d1_wbc_min  gcs_eyes  gcs_motor  gcs_verbal  \\\n",
       "0     0.898494    0.287433    0.330017  0.666667        1.0        0.75   \n",
       "1     0.543224    0.492424    0.295015  0.000000        0.4        0.00   \n",
       "2     0.813906    0.207219    0.222511  0.666667        1.0        1.00   \n",
       "\n",
       "   icu_admit_source_Accident_Emergency  ventilated  \n",
       "0                                  0.0         0.0  \n",
       "1                                  0.0         1.0  \n",
       "2                                  1.0         0.0  "
      ]
     },
     "execution_count": 19,
     "metadata": {},
     "output_type": "execute_result"
    }
   ],
   "source": [
    "X.head(3)"
   ]
  },
  {
   "cell_type": "code",
   "execution_count": 20,
   "metadata": {},
   "outputs": [
    {
     "name": "stderr",
     "output_type": "stream",
     "text": [
      "/Users/dominiknaumann/.pyenv/versions/3.10.6/envs/Risk_ICU/lib/python3.10/site-packages/sklearn/utils/validation.py:1300: DataConversionWarning: A column-vector y was passed when a 1d array was expected. Please change the shape of y to (n_samples, ), for example using ravel().\n",
      "  y = column_or_1d(y, warn=True)\n",
      "/Users/dominiknaumann/.pyenv/versions/3.10.6/envs/Risk_ICU/lib/python3.10/site-packages/sklearn/ensemble/_weight_boosting.py:519: FutureWarning: The SAMME.R algorithm (the default) is deprecated and will be removed in 1.6. Use the SAMME algorithm to circumvent this warning.\n",
      "  warnings.warn(\n",
      "/Users/dominiknaumann/.pyenv/versions/3.10.6/envs/Risk_ICU/lib/python3.10/site-packages/sklearn/preprocessing/_label.py:97: DataConversionWarning: A column-vector y was passed when a 1d array was expected. Please change the shape of y to (n_samples, ), for example using ravel().\n",
      "  y = column_or_1d(y, warn=True)\n",
      "/Users/dominiknaumann/.pyenv/versions/3.10.6/envs/Risk_ICU/lib/python3.10/site-packages/sklearn/preprocessing/_label.py:132: DataConversionWarning: A column-vector y was passed when a 1d array was expected. Please change the shape of y to (n_samples, ), for example using ravel().\n",
      "  y = column_or_1d(y, dtype=self.classes_.dtype, warn=True)\n",
      "/Users/dominiknaumann/.pyenv/versions/3.10.6/envs/Risk_ICU/lib/python3.10/site-packages/sklearn/ensemble/_weight_boosting.py:519: FutureWarning: The SAMME.R algorithm (the default) is deprecated and will be removed in 1.6. Use the SAMME algorithm to circumvent this warning.\n",
      "  warnings.warn(\n",
      "/Users/dominiknaumann/.pyenv/versions/3.10.6/envs/Risk_ICU/lib/python3.10/site-packages/sklearn/ensemble/_weight_boosting.py:519: FutureWarning: The SAMME.R algorithm (the default) is deprecated and will be removed in 1.6. Use the SAMME algorithm to circumvent this warning.\n",
      "  warnings.warn(\n",
      "/Users/dominiknaumann/.pyenv/versions/3.10.6/envs/Risk_ICU/lib/python3.10/site-packages/sklearn/ensemble/_weight_boosting.py:519: FutureWarning: The SAMME.R algorithm (the default) is deprecated and will be removed in 1.6. Use the SAMME algorithm to circumvent this warning.\n",
      "  warnings.warn(\n",
      "/Users/dominiknaumann/.pyenv/versions/3.10.6/envs/Risk_ICU/lib/python3.10/site-packages/sklearn/ensemble/_weight_boosting.py:519: FutureWarning: The SAMME.R algorithm (the default) is deprecated and will be removed in 1.6. Use the SAMME algorithm to circumvent this warning.\n",
      "  warnings.warn(\n",
      "/Users/dominiknaumann/.pyenv/versions/3.10.6/envs/Risk_ICU/lib/python3.10/site-packages/sklearn/ensemble/_weight_boosting.py:519: FutureWarning: The SAMME.R algorithm (the default) is deprecated and will be removed in 1.6. Use the SAMME algorithm to circumvent this warning.\n",
      "  warnings.warn(\n",
      "/Users/dominiknaumann/.pyenv/versions/3.10.6/envs/Risk_ICU/lib/python3.10/site-packages/sklearn/ensemble/_weight_boosting.py:519: FutureWarning: The SAMME.R algorithm (the default) is deprecated and will be removed in 1.6. Use the SAMME algorithm to circumvent this warning.\n",
      "  warnings.warn(\n"
     ]
    }
   ],
   "source": [
    "model_24, auc, recall = model_h24(X,y)"
   ]
  },
  {
   "cell_type": "code",
   "execution_count": 21,
   "metadata": {},
   "outputs": [
    {
     "data": {
      "text/plain": [
       "0.879432971607924"
      ]
     },
     "execution_count": 21,
     "metadata": {},
     "output_type": "execute_result"
    }
   ],
   "source": [
    "auc"
   ]
  },
  {
   "cell_type": "code",
   "execution_count": 22,
   "metadata": {},
   "outputs": [
    {
     "data": {
      "text/plain": [
       "0.8007397133610726"
      ]
     },
     "execution_count": 22,
     "metadata": {},
     "output_type": "execute_result"
    }
   ],
   "source": [
    "recall"
   ]
  },
  {
   "cell_type": "code",
   "execution_count": 23,
   "metadata": {},
   "outputs": [],
   "source": [
    "save_model(model_24, \"24h_model\")"
   ]
  },
  {
   "cell_type": "code",
   "execution_count": null,
   "metadata": {},
   "outputs": [],
   "source": []
  }
 ],
 "metadata": {
  "kernelspec": {
   "display_name": "Risk_ICU",
   "language": "python",
   "name": "python3"
  },
  "language_info": {
   "codemirror_mode": {
    "name": "ipython",
    "version": 3
   },
   "file_extension": ".py",
   "mimetype": "text/x-python",
   "name": "python",
   "nbconvert_exporter": "python",
   "pygments_lexer": "ipython3",
   "version": "3.10.6"
  }
 },
 "nbformat": 4,
 "nbformat_minor": 2
}
