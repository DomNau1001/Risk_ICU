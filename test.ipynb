{
 "cells": [
  {
   "cell_type": "code",
   "execution_count": 19,
   "metadata": {},
   "outputs": [],
   "source": [
    "import pandas as pd\n",
    "from ml_logic.model import model_h1, save_model, load_model, predict\n",
    "from ml_logic.preprocessing import preprocessing_1_hour\n",
    "from imblearn.over_sampling import RandomOverSampler\n",
    "from api.backend.api_preprocessor import preprocessing_1_hour as pre_pred\n",
    "\n",
    "#data\n",
    "data = pd.read_csv(\"raw_data/training_v2.csv\")\n",
    "\n",
    "pd.set_option(\"display.max_columns\", None)\n"
   ]
  },
  {
   "cell_type": "code",
   "execution_count": 4,
   "metadata": {},
   "outputs": [
    {
     "name": "stderr",
     "output_type": "stream",
     "text": [
      "/Users/dominiknaumann/code/DomNau1001/Risk_ICU/ml_logic/preprocessing.py:167: SettingWithCopyWarning: \n",
      "A value is trying to be set on a copy of a slice from a DataFrame.\n",
      "Try using .loc[row_indexer,col_indexer] = value instead\n",
      "\n",
      "See the caveats in the documentation: https://pandas.pydata.org/pandas-docs/stable/user_guide/indexing.html#returning-a-view-versus-a-copy\n",
      "  X_post_cats[ohe.get_feature_names_out()] = ohe.transform(X_post_cats[[\"gender\"]])\n",
      "/Users/dominiknaumann/code/DomNau1001/Risk_ICU/ml_logic/preprocessing.py:168: SettingWithCopyWarning: \n",
      "A value is trying to be set on a copy of a slice from a DataFrame\n",
      "\n",
      "See the caveats in the documentation: https://pandas.pydata.org/pandas-docs/stable/user_guide/indexing.html#returning-a-view-versus-a-copy\n",
      "  X_post_cats.drop(columns = \"gender\", inplace = True)\n"
     ]
    }
   ],
   "source": [
    "# preproc\n",
    "X, y = preprocessing_1_hour(data)\n",
    "\n",
    "# training\n",
    "model, auc_score, recall = model_h1(X,y)"
   ]
  },
  {
   "cell_type": "code",
   "execution_count": 5,
   "metadata": {},
   "outputs": [],
   "source": [
    "#save model\n",
    "save_model(model)"
   ]
  },
  {
   "cell_type": "code",
   "execution_count": 6,
   "metadata": {},
   "outputs": [],
   "source": [
    "#load model\n",
    "loaded_model = load_model(\"model_saved.pkl\")"
   ]
  },
  {
   "cell_type": "code",
   "execution_count": 7,
   "metadata": {},
   "outputs": [
    {
     "data": {
      "text/plain": [
       "0   \n",
       "True    91713\n",
       "Name: count, dtype: int64"
      ]
     },
     "execution_count": 7,
     "metadata": {},
     "output_type": "execute_result"
    }
   ],
   "source": [
    "result = model.predict(X) == loaded_model.predict(X)\n",
    "pd.DataFrame(result).value_counts()"
   ]
  },
  {
   "cell_type": "code",
   "execution_count": 12,
   "metadata": {},
   "outputs": [],
   "source": [
    "X_pred = pd.DataFrame(dict(\n",
    "        gender = [\"M\"],\n",
    "        age = [20],\n",
    "        bmi = [26],\n",
    "        elective_surgery = [1],\n",
    "        pre_icu_los_days = [4],\n",
    "        h1_heartrate_max = [190],\n",
    "        h1_heartrate_min = [110],\n",
    "        h1_spo2_max = [98],\n",
    "        h1_spo2_min = [70],\n",
    "        h1_sysbp_max = [110],\n",
    "        h1_sysbp_min = [60],\n",
    "        h1_glucose_max = [110],\n",
    "        h1_glucose_min = [90],\n",
    "        h1_inr_max = [3.4],\n",
    "        h1_inr_min = [2.8]))"
   ]
  },
  {
   "cell_type": "code",
   "execution_count": 13,
   "metadata": {},
   "outputs": [
    {
     "name": "stderr",
     "output_type": "stream",
     "text": [
      "/Users/dominiknaumann/code/DomNau1001/Risk_ICU/api/backend/api_preprocessor.py:19: SettingWithCopyWarning: \n",
      "A value is trying to be set on a copy of a slice from a DataFrame.\n",
      "Try using .loc[row_indexer,col_indexer] = value instead\n",
      "\n",
      "See the caveats in the documentation: https://pandas.pydata.org/pandas-docs/stable/user_guide/indexing.html#returning-a-view-versus-a-copy\n",
      "  X_cats[ohe.get_feature_names_out()] = ohe.transform(X_cats[[\"gender\"]])\n",
      "/Users/dominiknaumann/code/DomNau1001/Risk_ICU/api/backend/api_preprocessor.py:20: SettingWithCopyWarning: \n",
      "A value is trying to be set on a copy of a slice from a DataFrame\n",
      "\n",
      "See the caveats in the documentation: https://pandas.pydata.org/pandas-docs/stable/user_guide/indexing.html#returning-a-view-versus-a-copy\n",
      "  X_cats.drop(columns = \"gender\", inplace = True)\n"
     ]
    }
   ],
   "source": [
    "X_pred_pre = pre_pred(X_pred)"
   ]
  },
  {
   "cell_type": "code",
   "execution_count": 20,
   "metadata": {},
   "outputs": [
    {
     "data": {
      "text/plain": [
       "0"
      ]
     },
     "execution_count": 20,
     "metadata": {},
     "output_type": "execute_result"
    }
   ],
   "source": [
    "loaded_model.predict(X_pred_pre)[0]"
   ]
  },
  {
   "cell_type": "code",
   "execution_count": 21,
   "metadata": {},
   "outputs": [],
   "source": [
    "prediction = predict(loaded_model, X_pred_pre)"
   ]
  },
  {
   "cell_type": "code",
   "execution_count": 23,
   "metadata": {},
   "outputs": [
    {
     "data": {
      "text/plain": [
       "0"
      ]
     },
     "execution_count": 23,
     "metadata": {},
     "output_type": "execute_result"
    }
   ],
   "source": [
    "prediction[0]"
   ]
  },
  {
   "cell_type": "code",
   "execution_count": 24,
   "metadata": {},
   "outputs": [
    {
     "name": "stderr",
     "output_type": "stream",
     "text": [
      "/var/folders/gw/9ssrbb6s3q5_1v_yflvs447c0000gn/T/ipykernel_37772/3883385871.py:1: DeprecationWarning: Conversion of an array with ndim > 0 to a scalar is deprecated, and will error in future. Ensure you extract a single element from your array before performing this operation. (Deprecated NumPy 1.25.)\n",
      "  float(prediction)\n"
     ]
    },
    {
     "data": {
      "text/plain": [
       "0.0"
      ]
     },
     "execution_count": 24,
     "metadata": {},
     "output_type": "execute_result"
    }
   ],
   "source": [
    "float(prediction)"
   ]
  },
  {
   "cell_type": "code",
   "execution_count": null,
   "metadata": {},
   "outputs": [],
   "source": []
  }
 ],
 "metadata": {
  "kernelspec": {
   "display_name": "Risk_ICU",
   "language": "python",
   "name": "python3"
  },
  "language_info": {
   "codemirror_mode": {
    "name": "ipython",
    "version": 3
   },
   "file_extension": ".py",
   "mimetype": "text/x-python",
   "name": "python",
   "nbconvert_exporter": "python",
   "pygments_lexer": "ipython3",
   "version": "3.10.6"
  }
 },
 "nbformat": 4,
 "nbformat_minor": 2
}
